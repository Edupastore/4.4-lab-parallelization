{
 "cells": [
  {
   "cell_type": "markdown",
   "metadata": {
    "toc": true
   },
   "source": [
    "<h1>Table of Contents<span class=\"tocSkip\"></span></h1>\n",
    "<div class=\"toc\"><ul class=\"toc-item\"><li><span><a href=\"#Parallelization-Lab\" data-toc-modified-id=\"Parallelization-Lab-1\"><span class=\"toc-item-num\">1&nbsp;&nbsp;</span>Parallelization Lab</a></span><ul class=\"toc-item\"><li><span><a href=\"#Step-1:-Use-the-requests-library-to-retrieve-the-content-from-the-URL-below.\" data-toc-modified-id=\"Step-1:-Use-the-requests-library-to-retrieve-the-content-from-the-URL-below.-1.1\"><span class=\"toc-item-num\">1.1&nbsp;&nbsp;</span>Step 1: Use the requests library to retrieve the content from the URL below.</a></span></li><li><span><a href=\"#Step-2:-Use-BeautifulSoup-to-extract-a-list-of-all-the-unique-links-on-the-page.\" data-toc-modified-id=\"Step-2:-Use-BeautifulSoup-to-extract-a-list-of-all-the-unique-links-on-the-page.-1.2\"><span class=\"toc-item-num\">1.2&nbsp;&nbsp;</span>Step 2: Use BeautifulSoup to extract a list of all the unique links on the page.</a></span></li><li><span><a href=\"#Step-3:-Use-list-comprehensions-with-conditions-to-clean-the-link-list.\" data-toc-modified-id=\"Step-3:-Use-list-comprehensions-with-conditions-to-clean-the-link-list.-1.3\"><span class=\"toc-item-num\">1.3&nbsp;&nbsp;</span>Step 3: Use list comprehensions with conditions to clean the link list.</a></span></li><li><span><a href=\"#Step-4:-Use-the-os-library-to-create-a-folder-called-wikipedia-and-make-that-the-current-working-directory.\" data-toc-modified-id=\"Step-4:-Use-the-os-library-to-create-a-folder-called-wikipedia-and-make-that-the-current-working-directory.-1.4\"><span class=\"toc-item-num\">1.4&nbsp;&nbsp;</span>Step 4: Use the os library to create a folder called <em>wikipedia</em> and make that the current working directory.</a></span></li><li><span><a href=\"#Step-5:-Write-a-function-called-index_page-that-accepts-a-link-and-does-the-following.\" data-toc-modified-id=\"Step-5:-Write-a-function-called-index_page-that-accepts-a-link-and-does-the-following.-1.5\"><span class=\"toc-item-num\">1.5&nbsp;&nbsp;</span>Step 5: Write a function called index_page that accepts a link and does the following.</a></span></li><li><span><a href=\"#Step-6:-Sequentially-loop-through-the-list-of-links,-running-the-index_page-function-each-time.\" data-toc-modified-id=\"Step-6:-Sequentially-loop-through-the-list-of-links,-running-the-index_page-function-each-time.-1.6\"><span class=\"toc-item-num\">1.6&nbsp;&nbsp;</span>Step 6: Sequentially loop through the list of links, running the index_page function each time.</a></span></li><li><span><a href=\"#Step-7:-Perform-the-page-indexing-in-parallel-and-note-the-difference-in-performance.\" data-toc-modified-id=\"Step-7:-Perform-the-page-indexing-in-parallel-and-note-the-difference-in-performance.-1.7\"><span class=\"toc-item-num\">1.7&nbsp;&nbsp;</span>Step 7: Perform the page indexing in parallel and note the difference in performance.</a></span></li></ul></li></ul></div>"
   ]
  },
  {
   "cell_type": "markdown",
   "metadata": {},
   "source": [
    "# Parallelization Lab\n",
    "\n",
    "In this lab, you will be leveraging several concepts you have learned to obtain a list of links from a web page and crawl and index the pages referenced by those links - both sequentially and in parallel. Follow the steps below to complete the lab."
   ]
  },
  {
   "cell_type": "markdown",
   "metadata": {},
   "source": [
    "## Step 1: Use the requests library to retrieve the content from the URL below.\n",
    "\n",
    "https://en.wikipedia.org/wiki/Data_science"
   ]
  },
  {
   "cell_type": "code",
   "execution_count": 1,
   "metadata": {},
   "outputs": [],
   "source": [
    "import pandas as pd\n",
    "from selenium.webdriver.chrome.options import Options\n",
    "from webdriver_manager.chrome import ChromeDriverManager\n",
    "import requests as req\n",
    "from bs4 import BeautifulSoup as bs\n",
    "from selenium import webdriver\n",
    "\n",
    "url = 'https://en.wikipedia.org/wiki/Data_science'"
   ]
  },
  {
   "cell_type": "code",
   "execution_count": 2,
   "metadata": {},
   "outputs": [],
   "source": [
    "PATH = ChromeDriverManager().install()"
   ]
  },
  {
   "cell_type": "code",
   "execution_count": 3,
   "metadata": {},
   "outputs": [],
   "source": [
    "from selenium.webdriver.common.by import By # By es para buscar por tag, clase, id...\n",
    "import time\n",
    "import warnings\n",
    "warnings.filterwarnings('ignore')"
   ]
  },
  {
   "cell_type": "code",
   "execution_count": 4,
   "metadata": {},
   "outputs": [
    {
     "data": {
      "text/plain": [
       "b'<!DOCTYPE html>\\n<html class=\"client-nojs vector-feature-language-in-header-enabled vector-feature-language-in-main-page-header-disabled vector-feature-language-alert-in-sidebar-enabled vector-feature-sticky-header-disabled vector-feature-page-tools-disabled vector-feature-page-tools-pinned-disabled vector-feature-main-menu-pinned-disabled vector-feature-limited-width-enabled vector-feature-limited-width-content-enabled\" lang=\"en\" dir=\"ltr\">\\n<head>\\n<meta charset=\"UTF-8\"/>\\n<title>Data science - Wi'"
      ]
     },
     "execution_count": 4,
     "metadata": {},
     "output_type": "execute_result"
    }
   ],
   "source": [
    "#your code\n",
    "html = req.get(url).content\n",
    "soup=bs(html, 'html.parser')\n",
    "html[:500]"
   ]
  },
  {
   "cell_type": "markdown",
   "metadata": {},
   "source": [
    "## Step 2: Use BeautifulSoup to extract a list of all the unique links on the page."
   ]
  },
  {
   "cell_type": "code",
   "execution_count": 5,
   "metadata": {},
   "outputs": [],
   "source": [
    "from bs4 import BeautifulSoup\n",
    "import re"
   ]
  },
  {
   "cell_type": "code",
   "execution_count": 6,
   "metadata": {
    "scrolled": true
   },
   "outputs": [
    {
     "data": {
      "text/plain": [
       "<a class=\"mw-jump-link\" href=\"#bodyContent\">Jump to content</a>"
      ]
     },
     "execution_count": 6,
     "metadata": {},
     "output_type": "execute_result"
    }
   ],
   "source": [
    "#your code\n",
    "link = soup.find_all('a')\n",
    "link[0]"
   ]
  },
  {
   "cell_type": "code",
   "execution_count": 7,
   "metadata": {},
   "outputs": [],
   "source": [
    "links = []\n",
    "\n",
    "for e in link:\n",
    "    if 'href' in e.attrs:\n",
    "        links.append(e.get('href'))"
   ]
  },
  {
   "cell_type": "code",
   "execution_count": 8,
   "metadata": {},
   "outputs": [
    {
     "data": {
      "text/plain": [
       "437"
      ]
     },
     "execution_count": 8,
     "metadata": {},
     "output_type": "execute_result"
    }
   ],
   "source": [
    "len(links)"
   ]
  },
  {
   "cell_type": "markdown",
   "metadata": {},
   "source": [
    "## Step 3: Use list comprehensions with conditions to clean the link list.\n",
    "\n",
    "There are two types of links, absolute and relative. Absolute links have the full URL and begin with http while relative links begin with a forward slash (/) and point to an internal page within the wikipedia.org domain. Clean the respective types of URLs as follows.\n",
    "\n",
    "- Absolute Links: Create a list of these and remove any that contain a percentage sign (%).\n",
    "- Relativel Links: Create a list of these, add the domain to the link so that you have the full URL, and remove any that contain a percentage sign (%).\n",
    "- Combine the list of absolute and relative links and ensure there are no duplicates."
   ]
  },
  {
   "cell_type": "code",
   "execution_count": 9,
   "metadata": {},
   "outputs": [],
   "source": [
    "domain = 'http://wikipedia.org'"
   ]
  },
  {
   "cell_type": "code",
   "execution_count": 10,
   "metadata": {},
   "outputs": [
    {
     "data": {
      "text/plain": [
       "['https://donate.wikimedia.org/wiki/Special:FundraiserRedirector?utm_source=donate&utm_medium=sidebar&utm_campaign=C13_en.wikipedia.org&uselang=en',\n",
       " 'https://www.wikidata.org/wiki/Special:EntityPage/Q2374463',\n",
       " 'https://commons.wikimedia.org/wiki/Category:Data_science',\n",
       " 'https://en.wikiversity.org/wiki/Data_science',\n",
       " 'https://ar.wikipedia.org/wiki/',\n",
       " 'https://az.wikipedia.org/wiki/Veril',\n",
       " 'https://bn.wikipedia.org/wiki/',\n",
       " 'https://bg.wikipedia.org/wiki/',\n",
       " 'https://ca.wikipedia.org/wiki/Ci',\n",
       " 'https://cs.wikipedia.org/wiki/Data_science',\n",
       " 'https://de.wikipedia.org/wiki/Data_Science',\n",
       " 'https://et.wikipedia.org/wiki/Andmeteadus',\n",
       " 'https://el.wikipedia.org/wiki/',\n",
       " 'https://es.wikipedia.org/wiki/Ciencia_de_datos',\n",
       " 'https://eo.wikipedia.org/wiki/Datuma_scienco',\n",
       " 'https://eu.wikipedia.org/wiki/Datu_zientzia',\n",
       " 'https://fa.wikipedia.org/wiki/',\n",
       " 'https://fr.wikipedia.org/wiki/Science_des_donn',\n",
       " 'https://ko.wikipedia.org/wiki/',\n",
       " 'https://hy.wikipedia.org/wiki/',\n",
       " 'https://hi.wikipedia.org/wiki/',\n",
       " 'https://id.wikipedia.org/wiki/Ilmu_data',\n",
       " 'https://it.wikipedia.org/wiki/Scienza_dei_dati',\n",
       " 'https://he.wikipedia.org/wiki/',\n",
       " 'https://kn.wikipedia.org/wiki/',\n",
       " 'https://kk.wikipedia.org/wiki/',\n",
       " 'https://lv.wikipedia.org/wiki/Datu_m',\n",
       " 'https://mk.wikipedia.org/wiki/',\n",
       " 'https://ms.wikipedia.org/wiki/Sains_data',\n",
       " 'https://my.wikipedia.org/wiki/',\n",
       " 'https://nl.wikipedia.org/wiki/Datawetenschap',\n",
       " 'https://ja.wikipedia.org/wiki/',\n",
       " 'https://no.wikipedia.org/wiki/Datavitenskap',\n",
       " 'https://uz.wikipedia.org/wiki/Ma',\n",
       " 'https://pl.wikipedia.org/wiki/Danologia',\n",
       " 'https://pt.wikipedia.org/wiki/Ci',\n",
       " 'https://qu.wikipedia.org/wiki/Willakuy_hamut',\n",
       " 'https://ru.wikipedia.org/wiki/',\n",
       " 'https://simple.wikipedia.org/wiki/Data_science',\n",
       " 'https://fi.wikipedia.org/wiki/Datatiede',\n",
       " 'https://ta.wikipedia.org/wiki/',\n",
       " 'https://th.wikipedia.org/wiki/',\n",
       " 'https://tr.wikipedia.org/wiki/Veri_bilimi',\n",
       " 'https://uk.wikipedia.org/wiki/',\n",
       " 'https://ur.wikipedia.org/wiki/',\n",
       " 'https://vi.wikipedia.org/wiki/Khoa_h',\n",
       " 'https://zh-yue.wikipedia.org/wiki/',\n",
       " 'https://zh.wikipedia.org/wiki/',\n",
       " 'https://www.wikidata.org/wiki/Special:EntityPage/Q2374463#sitelinks-wikipedia',\n",
       " 'https://doi.org/10.1080',\n",
       " 'https://doi.org/10.1080',\n",
       " 'https://api.semanticscholar.org/CorpusID:114558008',\n",
       " 'http://cacm.acm.org/magazines/2013/12/169933-data-science-and-prediction/fulltext',\n",
       " 'https://doi.org/10.1145',\n",
       " 'https://api.semanticscholar.org/CorpusID:6107147',\n",
       " 'https://web.archive.org/web/20141109113411/http://cacm.acm.org/magazines/2013/12/169933-data-science-and-prediction/fulltext',\n",
       " 'https://dstf.acm.org/DSTF_Final_Report.pdf',\n",
       " 'https://cacm.acm.org/blogs/blog-cacm/267286-why-is-it-hard-to-define-data-science/fulltext',\n",
       " 'https://www.springer.com/book/9784431702085',\n",
       " 'https://doi.org/10.1007',\n",
       " 'https://doi.org/10.1145',\n",
       " 'https://doi.org/10.1145',\n",
       " 'https://api.semanticscholar.org/CorpusID:207595944',\n",
       " 'https://books.google.com/books?id=oGs_AQAAIAAJ',\n",
       " 'https://web.archive.org/web/20170320193019/https://books.google.com/books?id=oGs_AQAAIAAJ',\n",
       " 'https://doi.org/10.1126',\n",
       " 'https://api.semanticscholar.org/CorpusID:9743327',\n",
       " 'https://hbr.org/2012/10/data-scientist-the-sexiest-job-of-the-21st-century/',\n",
       " 'https://doi.org/10.3390',\n",
       " 'https://doi.org/10.3390',\n",
       " 'https://web.archive.org/web/20200810114002/http://www.datascienceassn.org/about-data-science',\n",
       " 'http://www.datascienceassn.org/about-data-science',\n",
       " 'https://www.oreilly.com/library/view/doing-data-science/9781449363871/ch01.html',\n",
       " 'https://medriscoll.com/post/4740157098/the-three-sexy-skills-of-data-geeks',\n",
       " 'https://flowingdata.com/2009/06/04/rise-of-the-data-scientist/',\n",
       " 'https://benfry.com/phd/dissertation/2.html',\n",
       " 'https://magazine.amstat.org/blog/2015/10/01/asa-statement-on-the-role-of-statistics-in-data-science/',\n",
       " 'https://web.archive.org/web/20190620184935/https://magazine.amstat.org/blog/2015/10/01/asa-statement-on-the-role-of-statistics-in-data-science/',\n",
       " 'https://www.statisticsviews.com/article/nate-silver-what-i-need-from-statisticians/',\n",
       " 'http://priceonomics.com/whats-the-difference-between-data-science-and/',\n",
       " 'http://archive.nyu.edu/handle/2451/31553',\n",
       " 'https://doi.org/10.1145',\n",
       " 'https://api.semanticscholar.org/CorpusID:6107147',\n",
       " 'https://statmodeling.stat.columbia.edu/2013/11/14/statistics-least-important-part-data-science/',\n",
       " 'http://courses.csail.mit.edu/18.337/2015/docs/50YearsDataScience.pdf',\n",
       " 'https://www2.isye.gatech.edu/~jeffwu/publications/fazhan.pdf',\n",
       " 'https://doi.org/10.3390',\n",
       " 'https://doi.org/10.3390',\n",
       " 'http://www2.isye.gatech.edu/~jeffwu/presentations/datascience.pdf',\n",
       " 'https://www.forbes.com/sites/gilpress/2013/05/28/a-very-short-history-of-data-science/',\n",
       " 'https://hbr.org/2012/10/data-scientist-the-sexiest-job-of-the-21st-century',\n",
       " 'https://www.nytimes.com/2013/04/14/education/edlife/universities-offer-courses-in-a-hot-new-field-data-science.html',\n",
       " 'https://www.bostonglobe.com/business/2015/11/11/behind-scenes-sexiest-job-century/Kc1cvXIu31DfHhVmyRQeIJ/story.html',\n",
       " 'https://hbr.org/2022/07/is-data-scientist-still-the-sexiest-job-of-the-21st-century',\n",
       " 'https://www.stat.purdue.edu/~wsc/',\n",
       " 'https://magazine.amstat.org/blog/2016/06/01/datascience-2/',\n",
       " 'https://hbr.org/2012/10/data-scientist-the-sexiest-job-of-the-21st-century',\n",
       " 'https://www.nsf.gov/pubs/2005/nsb0540/',\n",
       " 'https://www.forbes.com/sites/gilpress/2013/08/19/data-science-whats-the-half-life-of-a-buzzword/',\n",
       " 'https://www.forbes.com/sites/peterpham/2015/08/28/the-impacts-of-big-data-that-you-may-not-have-heard-of/',\n",
       " 'https://towardsdatascience.com/how-data-science-will-impact-future-of-businesses-7f11f5699c4d',\n",
       " 'https://en.wikipedia.org/w/index.php?title=Template:Data&action=edit',\n",
       " 'https://en.wikipedia.org/w/index.php?title=Data_science&oldid=1138351123',\n",
       " 'https://foundation.wikimedia.org/wiki/Privacy_policy',\n",
       " 'https://developer.wikimedia.org',\n",
       " 'https://stats.wikimedia.org/#/en.wikipedia.org',\n",
       " 'https://foundation.wikimedia.org/wiki/Cookie_statement',\n",
       " 'https://wikimediafoundation.org/',\n",
       " 'https://www.mediawiki.org/']"
      ]
     },
     "execution_count": 10,
     "metadata": {},
     "output_type": "execute_result"
    }
   ],
   "source": [
    "#your code\n",
    "abs_links = [link for link in links if 'http' in link]\n",
    "abs_links_2 = []\n",
    "for e in abs_links:\n",
    "    abs_links_2.append(e.split('%')[0])\n",
    "    \n",
    "abs_links_2"
   ]
  },
  {
   "cell_type": "code",
   "execution_count": 11,
   "metadata": {},
   "outputs": [
    {
     "data": {
      "text/plain": [
       "['http:/#bodyContent',\n",
       " 'http://wiki/Main_Page',\n",
       " 'http://wiki/Special:Search',\n",
       " 'http://w/index.php?title=Special:CreateAccount&returnto=Data+science',\n",
       " 'http://w/index.php?title=Special:CreateAccount&returnto=Data+science',\n",
       " 'http://w/index.php?title=Special:UserLogin&returnto=Data+science',\n",
       " 'http://wiki/Help:Introduction',\n",
       " 'http://wiki/Special:MyTalk',\n",
       " 'http://wiki/Special:MyContributions',\n",
       " 'http://wiki/Main_Page',\n",
       " 'http://wiki/Wikipedia:Contents',\n",
       " 'http://wiki/Portal:Current_events',\n",
       " 'http://wiki/Special:Random',\n",
       " 'http://wiki/Wikipedia:About',\n",
       " 'http:///en.wikipedia.org/wiki/Wikipedia:Contact_us',\n",
       " 'http://wiki/Help:Contents',\n",
       " 'http://wiki/Help:Introduction',\n",
       " 'http://wiki/Wikipedia:Community_portal',\n",
       " 'http://wiki/Special:RecentChanges',\n",
       " 'http://wiki/Wikipedia:File_upload_wizard',\n",
       " 'http://wiki/Special:WhatLinksHere/Data_science',\n",
       " 'http://wiki/Special:RecentChangesLinked/Data_science',\n",
       " 'http://wiki/Wikipedia:File_Upload_Wizard',\n",
       " 'http://wiki/Special:SpecialPages',\n",
       " 'http://w/index.php?title=Data_science&oldid=1138351123',\n",
       " 'http://w/index.php?title=Data_science&action=info',\n",
       " 'http://w/index.php?title=Special:CiteThisPage&page=Data_science&id=1138351123&wpFormIdentifier=titleform',\n",
       " 'http://w/index.php?title=Special:DownloadAsPdf&page=Data_science&action=show-download-screen',\n",
       " 'http://w/index.php?title=Data_science&printable=yes',\n",
       " 'http:/#p-lang-btn',\n",
       " 'http:/#',\n",
       " 'http:/#Foundations',\n",
       " 'http:/#Relationship_to_statistics',\n",
       " 'http:/#Etymology',\n",
       " 'http:/#Early_usage',\n",
       " 'http:/#Modern_usage',\n",
       " 'http:/#See_also',\n",
       " 'http:/#References',\n",
       " 'http://wiki/Data_science',\n",
       " 'http://wiki/Talk:Data_science',\n",
       " 'http://wiki/Data_science',\n",
       " 'http://w/index.php?title=Data_science&action=edit',\n",
       " 'http://w/index.php?title=Data_science&action=history',\n",
       " 'http://wiki/Data_science',\n",
       " 'http://w/index.php?title=Data_science&action=edit',\n",
       " 'http://w/index.php?title=Data_science&action=history',\n",
       " 'http://wiki/Information_science',\n",
       " 'http://wiki/File:PIA23792-1600x1200(1).jpg',\n",
       " 'http://wiki/File:PIA23792-1600x1200(1).jpg',\n",
       " 'http://wiki/Comet_NEOWISE',\n",
       " 'http://wiki/Astronomical_survey',\n",
       " 'http://wiki/Space_telescope',\n",
       " 'http://wiki/Wide-field_Infrared_Survey_Explorer',\n",
       " 'http://wiki/Interdisciplinary',\n",
       " 'http:/#cite_note-1',\n",
       " 'http://wiki/Statistics',\n",
       " 'http://wiki/Scientific_computing',\n",
       " 'http://wiki/Scientific_method',\n",
       " 'http://wiki/Algorithm',\n",
       " 'http://wiki/Knowledge',\n",
       " 'http://wiki/Unstructured_data',\n",
       " 'http:/#cite_note-2',\n",
       " 'http:/#cite_note-3',\n",
       " 'http:/#cite_note-4',\n",
       " 'http://wiki/Statistics',\n",
       " 'http://wiki/Data_analysis',\n",
       " 'http://wiki/Informatics',\n",
       " 'http://wiki/Scientific_method',\n",
       " 'http://wiki/Phenomena',\n",
       " 'http://wiki/Data',\n",
       " 'http:/#cite_note-5',\n",
       " 'http://wiki/Mathematics',\n",
       " 'http://wiki/Computer_science',\n",
       " 'http://wiki/Information_science',\n",
       " 'http://wiki/Domain_knowledge',\n",
       " 'http:/#cite_note-:2-6',\n",
       " 'http://wiki/Computer_science',\n",
       " 'http://wiki/Turing_Award',\n",
       " 'http://wiki/Jim_Gray_(computer_scientist)',\n",
       " 'http://wiki/Empirical_research',\n",
       " 'http://wiki/Basic_research',\n",
       " 'http://wiki/Computational_science',\n",
       " 'http://wiki/Information_technology',\n",
       " 'http://wiki/Information_explosion',\n",
       " 'http:/#cite_note-TansleyTolle2009-7',\n",
       " 'http:/#cite_note-BellHey2009-8',\n",
       " 'http:/#cite_note-9',\n",
       " 'http://w/index.php?title=Data_science&action=edit&section=1',\n",
       " 'http://wiki/Interdisciplinarity',\n",
       " 'http://wiki/Academic_discipline',\n",
       " 'http:/#cite_note-10',\n",
       " 'http://wiki/Big_data',\n",
       " 'http://wiki/Data_set',\n",
       " 'http://wiki/Problem_solving',\n",
       " 'http:/#cite_note-11',\n",
       " 'http://wiki/Analysis',\n",
       " 'http://wiki/Data_visualization',\n",
       " 'http://wiki/Information_visualization',\n",
       " 'http://wiki/Data_sonification',\n",
       " 'http://wiki/Data_integration',\n",
       " 'http://wiki/Graphic_design',\n",
       " 'http://wiki/Complex_systems',\n",
       " 'http://wiki/Communication',\n",
       " 'http://wiki/Business',\n",
       " 'http:/#cite_note-12',\n",
       " 'http:/#cite_note-13',\n",
       " 'http://wiki/Nathan_Yau',\n",
       " 'http://wiki/Ben_Fry',\n",
       " 'http://wiki/Human',\n",
       " 'http://wiki/Exploration',\n",
       " 'http:/#cite_note-14',\n",
       " 'http:/#cite_note-15',\n",
       " 'http://wiki/American_Statistical_Association',\n",
       " 'http://wiki/Database',\n",
       " 'http://wiki/Machine_learning',\n",
       " 'http://wiki/Distributed_computing',\n",
       " 'http:/#cite_note-16',\n",
       " 'http://w/index.php?title=Data_science&action=edit&section=2',\n",
       " 'http://wiki/Nate_Silver',\n",
       " 'http:/#cite_note-17',\n",
       " 'http:/#cite_note-18',\n",
       " 'http://wiki/Vasant_Dhar',\n",
       " 'http:/#cite_note-19',\n",
       " 'http://wiki/Andrew_Gelman',\n",
       " 'http://wiki/Columbia_University',\n",
       " 'http:/#cite_note-20',\n",
       " 'http://wiki/David_Donoho',\n",
       " 'http:/#cite_note-:7-21',\n",
       " 'http://w/index.php?title=Data_science&action=edit&section=3',\n",
       " 'http://w/index.php?title=Data_science&action=edit&section=4',\n",
       " 'http://wiki/John_Tukey',\n",
       " 'http:/#cite_note-:7-21',\n",
       " 'http://wiki/C._F._Jeff_Wu',\n",
       " 'http:/#cite_note-22',\n",
       " 'http://wiki/Montpellier_2_University',\n",
       " 'http:/#cite_note-23',\n",
       " 'http:/#cite_note-Murtagh_2018_14-24',\n",
       " 'http://wiki/Peter_Naur',\n",
       " 'http:/#cite_note-:2-6',\n",
       " 'http:/#cite_note-:2-6',\n",
       " 'http://wiki/C._F._Jeff_Wu',\n",
       " 'http:/#cite_note-25',\n",
       " 'http:/#cite_note-Murtagh_2018_14-24',\n",
       " 'http://wiki/Data_mining',\n",
       " 'http:/#cite_note-:2-6',\n",
       " 'http:/#cite_note-:1-26',\n",
       " 'http://w/index.php?title=Data_science&action=edit&section=5',\n",
       " 'http://wiki/Thomas_H._Davenport',\n",
       " 'http://wiki/DJ_Patil',\n",
       " 'http:/#cite_note-27',\n",
       " 'http://wiki/New_York_Times',\n",
       " 'http:/#cite_note-28',\n",
       " 'http://wiki/Boston_Globe',\n",
       " 'http:/#cite_note-29',\n",
       " 'http:/#cite_note-30',\n",
       " 'http://wiki/William_S._Cleveland',\n",
       " 'http:/#cite_note-31',\n",
       " 'http:/#cite_note-:1-26',\n",
       " 'http://wiki/Committee_on_Data_for_Science_and_Technology',\n",
       " 'http:/#cite_note-:1-26',\n",
       " 'http://wiki/American_Statistical_Association',\n",
       " 'http:/#cite_note-32',\n",
       " 'http://wiki/DJ_Patil',\n",
       " 'http://wiki/Jeff_Hammerbacher',\n",
       " 'http:/#cite_note-33',\n",
       " 'http://wiki/National_Science_Board',\n",
       " 'http:/#cite_note-34',\n",
       " 'http://wiki/Buzzword',\n",
       " 'http:/#cite_note-35',\n",
       " 'http://wiki/Big_data',\n",
       " 'http:/#cite_note-:5-36',\n",
       " 'http:/#cite_note-:6-37',\n",
       " 'http://w/index.php?title=Data_science&action=edit&section=6',\n",
       " 'http://wiki/ODSC',\n",
       " 'http://wiki/Scientific_Data_(journal)',\n",
       " 'http://wiki/Women_in_Data',\n",
       " 'http://w/index.php?title=Data_science&action=edit&section=7',\n",
       " 'http:/#cite_ref-1',\n",
       " 'http://wiki/Journal_of_Computational_and_Graphical_Statistics',\n",
       " 'http://wiki/Doi_(identifier)',\n",
       " 'http://wiki/S2CID_(identifier)',\n",
       " 'http:/#cite_ref-2',\n",
       " 'http://wiki/Doi_(identifier)',\n",
       " 'http://wiki/S2CID_(identifier)',\n",
       " 'http:/#cite_ref-3',\n",
       " 'http:/#cite_ref-4',\n",
       " 'http:/#cite_ref-5',\n",
       " 'http://wiki/Doi_(identifier)',\n",
       " 'http://wiki/ISBN_(identifier)',\n",
       " 'http://wiki/Special:BookSources/9784431702085',\n",
       " 'http:/#cite_ref-:2_6-0',\n",
       " 'http:/#cite_ref-:2_6-1',\n",
       " 'http:/#cite_ref-:2_6-2',\n",
       " 'http:/#cite_ref-:2_6-3',\n",
       " 'http://wiki/Doi_(identifier)',\n",
       " 'http://wiki/ISSN_(identifier)',\n",
       " 'http:///www.worldcat.org/issn/0360-0300',\n",
       " 'http://wiki/S2CID_(identifier)',\n",
       " 'http:/#cite_ref-TansleyTolle2009_7-0',\n",
       " 'http://wiki/ISBN_(identifier)',\n",
       " 'http://wiki/Special:BookSources/978-0-9825442-0-4',\n",
       " 'http:/#cite_ref-BellHey2009_8-0',\n",
       " 'http://wiki/Doi_(identifier)',\n",
       " 'http://wiki/ISSN_(identifier)',\n",
       " 'http:///www.worldcat.org/issn/0036-8075',\n",
       " 'http://wiki/PMID_(identifier)',\n",
       " 'http:///pubmed.ncbi.nlm.nih.gov/19265007',\n",
       " 'http://wiki/S2CID_(identifier)',\n",
       " 'http:/#cite_ref-9',\n",
       " 'http://wiki/Harvard_Business_Review',\n",
       " 'http://wiki/PMID_(identifier)',\n",
       " 'http:///pubmed.ncbi.nlm.nih.gov/23074866',\n",
       " 'http:/#cite_ref-10',\n",
       " 'http://wiki/Doi_(identifier)',\n",
       " 'http:/#cite_ref-11',\n",
       " 'http:/#cite_ref-12',\n",
       " 'http:/#cite_ref-13',\n",
       " 'http:/#cite_ref-14',\n",
       " 'http:/#cite_ref-15',\n",
       " 'http:/#cite_ref-16',\n",
       " 'http://wiki/American_Statistical_Association',\n",
       " 'http:/#cite_ref-17',\n",
       " 'http:/#cite_ref-18',\n",
       " 'http:/#cite_ref-19',\n",
       " 'http://wiki/Doi_(identifier)',\n",
       " 'http://wiki/S2CID_(identifier)',\n",
       " 'http:/#cite_ref-20',\n",
       " 'http:/#cite_ref-:7_21-0',\n",
       " 'http:/#cite_ref-:7_21-1',\n",
       " 'http:/#cite_ref-22',\n",
       " 'http://w/index.php?title=Application_of_Statistics_and_Management&action=edit&redlink=1',\n",
       " 'http:/#cite_ref-23',\n",
       " 'http://wiki/ISBN_(identifier)',\n",
       " 'http://wiki/Special:BookSources/0-12-241770-4',\n",
       " 'http://wiki/OCLC_(identifier)',\n",
       " 'http:///www.worldcat.org/oclc/489990740',\n",
       " 'http:/#cite_ref-Murtagh_2018_14_24-0',\n",
       " 'http:/#cite_ref-Murtagh_2018_14_24-1',\n",
       " 'http://wiki/Doi_(identifier)',\n",
       " 'http:/#cite_ref-25',\n",
       " 'http:/#cite_ref-:1_26-0',\n",
       " 'http:/#cite_ref-:1_26-1',\n",
       " 'http:/#cite_ref-:1_26-2',\n",
       " 'http:/#cite_ref-27',\n",
       " 'http://wiki/Harvard_Business_Review',\n",
       " 'http:/#cite_ref-28',\n",
       " 'http://wiki/New_York_Times',\n",
       " 'http://wiki/New_York_City',\n",
       " 'http:/#cite_ref-29',\n",
       " 'http://wiki/Boston_Globe',\n",
       " 'http://wiki/Boston',\n",
       " 'http:/#cite_ref-30',\n",
       " 'http://wiki/Harvard_Business_Review',\n",
       " 'http:/#cite_ref-31',\n",
       " 'http:/#cite_ref-32',\n",
       " 'http://wiki/American_Statistical_Association',\n",
       " 'http:/#cite_ref-33',\n",
       " 'http://wiki/ISSN_(identifier)',\n",
       " 'http:///www.worldcat.org/issn/0017-8012',\n",
       " 'http:/#cite_ref-34',\n",
       " 'http:/#cite_ref-35',\n",
       " 'http://wiki/Forbes',\n",
       " 'http:/#cite_ref-:5_36-0',\n",
       " 'http:/#cite_ref-:6_37-0',\n",
       " 'http://wiki/Template:Data',\n",
       " 'http://wiki/Template_talk:Data',\n",
       " 'http://wiki/Data_(computing)',\n",
       " 'http://wiki/Data_augmentation',\n",
       " 'http://wiki/Data_analysis',\n",
       " 'http://wiki/Data_archaeology',\n",
       " 'http://wiki/Big_data',\n",
       " 'http://wiki/Data_cleansing',\n",
       " 'http://wiki/Data_collection',\n",
       " 'http://wiki/Data_compression',\n",
       " 'http://wiki/Data_corruption',\n",
       " 'http://wiki/Data_curation',\n",
       " 'http://wiki/Data_degradation',\n",
       " 'http://wiki/Data_editing',\n",
       " 'http://wiki/Extract,_transform,_load',\n",
       " 'http://wiki/Extract,_load,_transform',\n",
       " 'http://wiki/Data_extraction',\n",
       " 'http://wiki/Data_transformation',\n",
       " 'http://wiki/Data_loading',\n",
       " 'http://wiki/Data_farming',\n",
       " 'http://wiki/Data_format_management',\n",
       " 'http://wiki/Data_fusion',\n",
       " 'http://wiki/Data_integration',\n",
       " 'http://wiki/Data_integrity',\n",
       " 'http://wiki/Data_library',\n",
       " 'http://wiki/Data_lineage',\n",
       " 'http://wiki/Data_loss',\n",
       " 'http://wiki/Data_management',\n",
       " 'http://wiki/Data_migration',\n",
       " 'http://wiki/Data_mining',\n",
       " 'http://wiki/Data_philanthropy',\n",
       " 'http://wiki/Data_pre-processing',\n",
       " 'http://wiki/Data_preservation',\n",
       " 'http://wiki/Information_privacy',\n",
       " 'http://wiki/Data_publishing',\n",
       " 'http://wiki/Data_recovery',\n",
       " 'http://wiki/Data_reduction',\n",
       " 'http://wiki/Data_retention',\n",
       " 'http://wiki/Data_quality',\n",
       " 'http://wiki/Data_scraping',\n",
       " 'http://wiki/Data_scrubbing',\n",
       " 'http://wiki/Data_security',\n",
       " 'http://wiki/Data_steward',\n",
       " 'http://wiki/Data_storage',\n",
       " 'http://wiki/Data_validation',\n",
       " 'http://wiki/Data_warehouse',\n",
       " 'http://wiki/Data_wrangling',\n",
       " 'http://wiki/Help:Category',\n",
       " 'http://wiki/Category:Information_science',\n",
       " 'http://wiki/Category:Computer_occupations',\n",
       " 'http://wiki/Category:Computational_fields_of_study',\n",
       " 'http://wiki/Category:Data_analysis',\n",
       " 'http://wiki/Category:Articles_with_short_description',\n",
       " 'http://wiki/Category:Short_description_matches_Wikidata',\n",
       " 'http://wiki/Category:Use_dmy_dates_from_August_2021',\n",
       " 'http:///en.wikipedia.org/wiki/Wikipedia:Text_of_the_Creative_Commons_Attribution-ShareAlike_3.0_Unported_License',\n",
       " 'http:///creativecommons.org/licenses/by-sa/3.0/',\n",
       " 'http:///foundation.wikimedia.org/wiki/Terms_of_Use',\n",
       " 'http:///foundation.wikimedia.org/wiki/Privacy_policy',\n",
       " 'http:///www.wikimediafoundation.org/',\n",
       " 'http://wiki/Wikipedia:About',\n",
       " 'http://wiki/Wikipedia:General_disclaimer',\n",
       " 'http:///en.wikipedia.org/wiki/Wikipedia:Contact_us',\n",
       " 'http:///en.m.wikipedia.org/w/index.php?title=Data_science&mobileaction=toggle_view_mobile']"
      ]
     },
     "execution_count": 11,
     "metadata": {},
     "output_type": "execute_result"
    }
   ],
   "source": [
    "rel_links = [link for link in links if 'http' not in link]\n",
    "\n",
    "rel_links\n",
    "\n",
    "rel_links_2 = ['http:/' + e for e in rel_links]\n",
    "\n",
    "rel_links_2\n",
    "\n",
    "rel_links_3 = []\n",
    "\n",
    "for e in rel_links_2:\n",
    "    rel_links_3.append(e.split('%')[0])\n",
    "    \n",
    "rel_links_3"
   ]
  },
  {
   "cell_type": "code",
   "execution_count": 12,
   "metadata": {},
   "outputs": [
    {
     "data": {
      "text/plain": [
       "437"
      ]
     },
     "execution_count": 12,
     "metadata": {},
     "output_type": "execute_result"
    }
   ],
   "source": [
    "total_links = abs_links_2 + rel_links_3\n",
    "\n",
    "len(total_links)"
   ]
  },
  {
   "cell_type": "markdown",
   "metadata": {},
   "source": [
    "## Step 4: Use the os library to create a folder called *wikipedia* and make that the current working directory."
   ]
  },
  {
   "cell_type": "code",
   "execution_count": 13,
   "metadata": {},
   "outputs": [],
   "source": [
    "import os"
   ]
  },
  {
   "cell_type": "code",
   "execution_count": 14,
   "metadata": {},
   "outputs": [],
   "source": [
    "#your code\n",
    "os.mkdir('wikipedia')\n"
   ]
  },
  {
   "cell_type": "code",
   "execution_count": 15,
   "metadata": {},
   "outputs": [],
   "source": [
    "#your code\n",
    "os.chdir('wikipedia')"
   ]
  },
  {
   "cell_type": "markdown",
   "metadata": {},
   "source": [
    "## Step 5: Write a function called index_page that accepts a link and does the following.\n",
    "\n",
    "- Tries to request the content of the page referenced by that link.\n",
    "- Slugifies the filename using the `slugify` function from the [python-slugify](https://pypi.org/project/python-slugify/) library and adds a .html file extension.\n",
    "    - If you don't already have the python-slugify library installed, you can pip install it as follows: `$ pip install python-slugify`.\n",
    "    - To import the slugify function, you would do the following: `from slugify import slugify`.\n",
    "    - You can then slugify a link as follows `slugify(link)`.\n",
    "- Creates a file in the wikipedia folder using the slugified filename and writes the contents of the page to the file.\n",
    "- If an exception occurs during the process above, just `pass`."
   ]
  },
  {
   "cell_type": "code",
   "execution_count": 16,
   "metadata": {},
   "outputs": [
    {
     "name": "stdout",
     "output_type": "stream",
     "text": [
      "Requirement already satisfied: python-slugify in c:\\users\\edward46\\anaconda3\\lib\\site-packages (5.0.2)\n",
      "Requirement already satisfied: text-unidecode>=1.3 in c:\\users\\edward46\\anaconda3\\lib\\site-packages (from python-slugify) (1.3)\n",
      "Note: you may need to restart the kernel to use updated packages.\n"
     ]
    }
   ],
   "source": [
    "%pip install python-slugify"
   ]
  },
  {
   "cell_type": "code",
   "execution_count": 17,
   "metadata": {},
   "outputs": [],
   "source": [
    "from slugify import slugify\n",
    "\n",
    "unicode=str()"
   ]
  },
  {
   "cell_type": "code",
   "execution_count": 18,
   "metadata": {},
   "outputs": [],
   "source": [
    "def index_page(url):\n",
    "    # Obtener el cvontenido de la página con una solicitud\n",
    "    response = req.get(url).text\n",
    "    # Lo slugifyamos\n",
    "    response = slugify(response)\n",
    "    try:\n",
    "       # Crear un archivo en \"wikipedia\" y se escribe el contenido de la página\n",
    "        with open('linkdewikipedia.html', 'w') as file:\n",
    "            file.write(response)\n",
    "    except:\n",
    "        # Si hay una excepción, le indicamos que pase\n",
    "        pass\n",
    "    \n",
    "index_page('https://es.wikipedia.org/wiki/Bad_Bunny')"
   ]
  },
  {
   "cell_type": "code",
   "execution_count": null,
   "metadata": {},
   "outputs": [],
   "source": []
  },
  {
   "cell_type": "markdown",
   "metadata": {},
   "source": [
    "## Step 6: Sequentially loop through the list of links, running the index_page function each time.\n",
    "\n",
    "Remember to include `%%time` at the beginning of the cell so that it measures the time it takes for the cell to run."
   ]
  },
  {
   "cell_type": "code",
   "execution_count": 20,
   "metadata": {},
   "outputs": [],
   "source": [
    "#your code\n",
    "%timeit\n",
    "\n",
    "for e in total_links[:50]:\n",
    "    index_page(e)"
   ]
  },
  {
   "cell_type": "markdown",
   "metadata": {},
   "source": [
    "## Step 7: Perform the page indexing in parallel and note the difference in performance.\n",
    "\n",
    "Remember to include `%%time` at the beginning of the cell so that it measures the time it takes for the cell to run."
   ]
  },
  {
   "cell_type": "code",
   "execution_count": 22,
   "metadata": {},
   "outputs": [],
   "source": [
    "import multiprocessing as mp"
   ]
  },
  {
   "cell_type": "code",
   "execution_count": 25,
   "metadata": {},
   "outputs": [
    {
     "data": {
      "text/plain": [
       "8"
      ]
     },
     "execution_count": 25,
     "metadata": {},
     "output_type": "execute_result"
    }
   ],
   "source": [
    "mp.cpu_count()"
   ]
  },
  {
   "cell_type": "code",
   "execution_count": null,
   "metadata": {},
   "outputs": [],
   "source": [
    "#your code\n",
    "%timeit\n",
    "\n",
    "pool = mp.Pool(mp.cpu.count())\n",
    "pool = mp.Pool(6) # 6 núcleos\n",
    "\n",
    "pool.map(index_page, total_links)\n",
    "pool.close()"
   ]
  }
 ],
 "metadata": {
  "kernelspec": {
   "display_name": "Python 3 (ipykernel)",
   "language": "python",
   "name": "python3"
  },
  "language_info": {
   "codemirror_mode": {
    "name": "ipython",
    "version": 3
   },
   "file_extension": ".py",
   "mimetype": "text/x-python",
   "name": "python",
   "nbconvert_exporter": "python",
   "pygments_lexer": "ipython3",
   "version": "3.9.13"
  },
  "toc": {
   "base_numbering": 1,
   "nav_menu": {},
   "number_sections": true,
   "sideBar": true,
   "skip_h1_title": false,
   "title_cell": "Table of Contents",
   "title_sidebar": "Contents",
   "toc_cell": true,
   "toc_position": {},
   "toc_section_display": true,
   "toc_window_display": false
  },
  "varInspector": {
   "cols": {
    "lenName": 16,
    "lenType": 16,
    "lenVar": 40
   },
   "kernels_config": {
    "python": {
     "delete_cmd_postfix": "",
     "delete_cmd_prefix": "del ",
     "library": "var_list.py",
     "varRefreshCmd": "print(var_dic_list())"
    },
    "r": {
     "delete_cmd_postfix": ") ",
     "delete_cmd_prefix": "rm(",
     "library": "var_list.r",
     "varRefreshCmd": "cat(var_dic_list()) "
    }
   },
   "types_to_exclude": [
    "module",
    "function",
    "builtin_function_or_method",
    "instance",
    "_Feature"
   ],
   "window_display": false
  }
 },
 "nbformat": 4,
 "nbformat_minor": 2
}
